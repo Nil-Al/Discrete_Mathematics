{
 "cells": [
  {
   "cell_type": "code",
   "execution_count": 4,
   "id": "ebfa747f",
   "metadata": {
    "tags": []
   },
   "outputs": [],
   "source": [
    "from matplotlib_venn import venn2\n",
    "from matplotlib_venn import venn3\n",
    "from matplotlib import pyplot as plt\n",
    "%matplotlib inline"
   ]
  },
  {
   "cell_type": "markdown",
   "id": "eab93518-bbbb-4e07-8732-bf2a809fdef4",
   "metadata": {},
   "source": [
    "# 1. Proving Identities\n",
    "---\n",
    "1. $A \\setminus B = A \\cap B^C$\n",
    "\n",
    "$\\textbf{Proof:}$\n",
    "<br>\n",
    "<br>\n",
    "$A \\setminus B$, represents all elements in set A that are not in set B. $A \\cap B^C$, means that it includes all elements in A that are not in B.<br> \n",
    "Thus, both sets represent the same elements, namely the elements in A that are not in B. Therefore, we can conclude that $A \\setminus B = A \\cap B^C$.\n",
    "\n",
    "---\n",
    "\n",
    "2. $B = (B \\cap A) \\cup (B \\cap A^C)$\n",
    "\n",
    "<br>\n",
    "<br>\n",
    "$\\textbf{Proof: }$<br>\n",
    "<br>\n",
    "\n",
    "If $x$ $\\in$ $B$ then $x$ $\\in$ $(B \\cap A) \\cup (B \\cap A^C)$, and by using the Distributive Law we get $x$ $\\in$  $B \\cap (A \\cup A^C)$ /\\ $x$ $\\in$ $A \\cup A^C = \\mathcal{U}$. <br> Lastly by using the domination law, we can conclude that $x$ $\\in$ $B \\cap \\mathcal{U} = $ $B$\n",
    "\n",
    "---\n",
    "\n",
    "3. $B \\setminus A = B \\cap A^C$<br>\n",
    "<br>\n",
    "\n",
    "\n",
    "$\\textbf{Proof: }$<br>\n",
    "<br>\n",
    "\n",
    "If $x$ $\\in$ $B$ \\ $A$ then $x$ $\\in$ $B$ and $x$ $\\notin$ $A$. Since $x$ $\\in$ $B$ and $x$ $\\in$ $A^C$ then $x$ $\\in$ $B \\cap A^C$. <br>\n",
    "Therefore we can conclude that $B$ \\ $A$ is a proper subset of $B \\cap A^C$\n",
    "\n",
    "\n",
    "---\n",
    "\n",
    "4. $A \\cup B = A \\cup (B\\cap A^C)$<br>\n",
    "<br>\n",
    "\n",
    "$\\textbf{Proof: }$<br>\n",
    "<br>\n",
    "\n",
    "The elements of $A^C$ are the elements that are in $B$. So, $B\\cap A^C$ is equivalent to $B\\cap B$ which can be simplified to just $B$. So that makes $A \\cup (B\\cap A^C)$ equal to $A \\cup B$.  <br>\n",
    "Therefore $A \\cup B = A \\cup (B\\cap A^C)$\n",
    "\n",
    "---\n",
    "\n",
    "5. $(\\bigcup_{i = 1}^{\\infty} A^C_i)^C = \\bigcap_{i = 1}^{\\infty}A_i$<br>\n",
    "<br>\n",
    "$\\textbf{Proof: }$\n",
    "<br>\n",
    "<br>\n",
    "\n",
    "The elements of $A^C$ are the elements that are not in $A$ and the complement of $A^C$ would go back to the elements of $A$. <br> Therefore we can conclude that $(\\bigcup_{i = 1}^{\\infty} A^C_i)^C = \\bigcap_{i = 1}^{\\infty}A_i$.\n",
    "\n",
    "---\n",
    "\n",
    "6. $|A \\cup B| = |A| + |B| - |A \\cap B|$<br>\n",
    "<br>\n",
    "$\\textbf{Proof: }$\n",
    "<br>\n",
    "<br>\n",
    "\n",
    "To establish the equality of $|A \\cup B| = |A| + |B| - |A \\cap B|$, we must first count all the elements of $A$ and $B$ and then add them up together so we can get $A \\cup B$. Since we will be double counting them, we have to subtract it by the amount of elements in $\\textbf{both}$ $A$ and $B$ so we can avoid the double count. <br> By doing so, we can account for the overlap between them and we can conclude that $|A \\cup B| = |A| + |B| - |A \\cap B|$.\n",
    "\n"
   ]
  },
  {
   "cell_type": "markdown",
   "id": "f445ba4f-2eb9-4e51-b333-78756779291c",
   "metadata": {},
   "source": [
    "# 2. Sets and Subsets\n",
    "---\n",
    "$\\textbf{1.}$\n",
    "\n",
    "$A = \\{2, 3, 4, 5  \\}$\n",
    "$B = \\{x \\in \\mathbb{N} |  x \\text{ is even}\\}$. Is $A \\subset B$? \n",
    "\n",
    "$A$ is not a proper subset of $B$ because 3 and 5 in $A$ are not in $B$. For $A$ to be a proper subset of $B$, all the elements in $A$ should exist in $B$ and $B$ should have $\\textbf{at least}$ one element that is not in $A$. Because of this, we can conclude that $A \\subset B$ = $False$.\n",
    "<br>\n",
    "<br>\n",
    "<br>\n",
    "$\\textbf{2.}$\n",
    "\n",
    "Let sets, \n",
    "\n",
    "$\\textbf{A} = \\{ x | x \\in \\mathbb{Z}, 0 \\leq x \\leq 9 \\}$\n",
    "\n",
    "$\\textbf{B} = \\{2,4,6,8\\}$\n",
    "\n",
    "$\\textbf{C} = \\{ 1,3,5,7,9\\}$\n",
    "\n",
    "$\\textbf{D} = \\{ 3,4,5 \\}$\n",
    "<br>\n",
    "\n",
    "Find a set $\\textbf{X}$ that satisfies the following:\n",
    "<br>\n",
    "1. $\\textbf{X} $ and $\\textbf{B}$ are disjoint.\n",
    "\n",
    "2. $\\textbf{X} \\subseteq \\textbf{D}$ but $\\textbf{X} \\nsubseteq \\textbf{B}$.\n",
    "\n",
    "3. $\\textbf{X} \\subseteq \\textbf{A}$ but $\\textbf{X} \\not\\subset \\textbf{C}$\n",
    "<br>\n",
    "<br>\n",
    "$\\textbf{Latex Answers: }$ <br>\n",
    "<br>\n",
    "$1.$ $X$ = $\\boxed{\\textbf{\\{1,3,5,7,9\\}}} $ <br>\n",
    "$2.$ $X$ = $\\boxed{\\textbf{\\{3,5\\}}} $ <br>\n",
    "$3.$ $X$ = $\\boxed{\\textbf{\\{2,4,6,8\\}}} $ <br>\n",
    "<br>\n",
    "<br>"
   ]
  },
  {
   "cell_type": "markdown",
   "id": "5c060f0f-0286-47c4-8a43-3bfbfdf19b36",
   "metadata": {},
   "source": [
    "# 3. Set Operations\n",
    "---\n",
    "## 1. Latex Programming\n",
    "### Given: <br>\n",
    "$\\textbf{U} = \\{1,2,3,4,5\\}$\n",
    "\n",
    "$\\textbf{A} = \\{1,2,3,4,5\\}$\n",
    "\n",
    "$\\textbf{B} = \\{4,5,6,7\\}$\n",
    "\n",
    "$\\textbf{C} = \\{5,6,7,8,9\\}$\n",
    "\n",
    "$\\textbf{D} = \\{1,3,5,7,9\\}$\n",
    "\n",
    "$\\textbf{E} = \\{2,4,6,8\\}$\n",
    "\n",
    "$\\textbf{F} = \\{1,5,9\\}$\n",
    "\n",
    "### Solutions: <br>\n",
    "1. $\\textbf{C} \\oplus \\textbf{D} = \\boxed{\\textbf{\\{1, 3, 6, 8\\}}}$\n",
    "\n",
    "2. $\\textbf{A} \\backslash \\textbf{B} = \\boxed{\\textbf{\\{1, 2, 3\\}}}$\n",
    "\n",
    "3. $\\textbf{B} \\backslash \\textbf{A} = \\boxed{\\textbf{\\{6, 7\\}}}$\n",
    "\n",
    "4. $\\textbf{E} \\oplus \\textbf{F} = \\boxed{\\textbf{\\{1, 2, 4, 5, 6, 8, 9\\}}}$\n",
    "<br>\n",
    "<br>\n",
    "\n",
    "### 2. Pythonic Solutions"
   ]
  },
  {
   "cell_type": "code",
   "execution_count": 3,
   "id": "243573c6-34d2-4b74-8bfd-df41b2cb1488",
   "metadata": {
    "tags": []
   },
   "outputs": [
    {
     "name": "stdout",
     "output_type": "stream",
     "text": [
      "{1, 3, 6, 8}\n",
      "{1, 2, 3}\n",
      "{6, 7}\n",
      "{1, 2, 4, 5, 6, 8, 9}\n"
     ]
    }
   ],
   "source": [
    "U = {1,2,3,4,5}\n",
    "\n",
    "A = {1,2,3,4,5}\n",
    "\n",
    "B = {4,5,6,7}\n",
    "\n",
    "C = {5,6,7,8,9}\n",
    "\n",
    "D = {1,3,5,7,9}\n",
    "\n",
    "E = {2,4,6,8}\n",
    "\n",
    "F = {1,5,9}\n",
    "\n",
    "print(C ^ D)\n",
    "print(A - B)\n",
    "print(B - A)\n",
    "print(E ^ F)"
   ]
  },
  {
   "cell_type": "markdown",
   "id": "dd4fd692-8d5c-48f9-946c-c224e2f18bd7",
   "metadata": {},
   "source": [
    "<br>\n",
    "<br>\n",
    "\n",
    "# 4. Finite Sets and The Counting Principles\n",
    "---"
   ]
  },
  {
   "cell_type": "markdown",
   "id": "050f386d-7aee-4750-9b7a-26319adde28d",
   "metadata": {},
   "source": [
    "### $\\textbf{Given: }$ <br>\n",
    "<br>\n",
    "<br>\n",
    "\n",
    "65 people read Newsweek<br>\n",
    "45 people read Times<br>\n",
    "42 people read Fortune<br>\n",
    "20 people read $\\textbf{both}$ Newsweek and Times<br>\n",
    "25 people read $\\textbf{both}$ Newsweek and Fortune<br>\n",
    "15 people read $\\textbf{both}$ Times and Fortune<br>\n",
    "8 people read all three magazines<br>\n",
    "<br>\n"
   ]
  },
  {
   "cell_type": "markdown",
   "id": "b37e7497-a0d4-4cd3-b6e9-e43d5156d63c",
   "metadata": {},
   "source": [
    "## 1."
   ]
  },
  {
   "cell_type": "code",
   "execution_count": 42,
   "id": "a8c70b76",
   "metadata": {
    "tags": []
   },
   "outputs": [
    {
     "data": {
      "text/plain": [
       "Text(0.7, 0.01, 'U = 2')"
      ]
     },
     "execution_count": 42,
     "metadata": {},
     "output_type": "execute_result"
    },
    {
     "data": {
      "image/png": "[encoded data removed]",
      "text/plain": [
       "<Figure size 640x480 with 1 Axes>"
      ]
     },
     "metadata": {},
     "output_type": "display_data"
    }
   ],
   "source": [
    "venn3(subsets = (28, 18, 12, 10, 17, 7, 8), set_labels = ('Newsweek', 'Times', 'Fortune'))\n",
    "plt.annotate(\"U = 2\", xy=(.7, .01), fontsize=15, ha='left', va='center', color='black', weight='bold')"
   ]
  },
  {
   "cell_type": "markdown",
   "id": "858f415f-3420-4c49-8ce7-d26b1a33de53",
   "metadata": {
    "tags": []
   },
   "source": [
    "## 2.\n",
    "$|Newsweek \\cup Times \\cup Fotune|$ = The people who have read at least one magazine. The formula of which is,\n",
    "\n",
    "$|Newsweek| + |Times| + |Fortune| - |Newsweek \\cap Times| - |Newsweek \\cap Fortune| - |Times \\cap Fortune| + |Newsweek \\cap Times \\cap Fortune| $ <br>\n",
    "= $|Newsweek \\cup Times \\cup Fotune|$ <br>\n",
    "\n",
    "or\n",
    "                    \n",
    "$65 + 45 + 42 - 25 - 20 - 15 + 8 = \\boxed{\\textbf{100}}$<br>\n",
    "<br>"
   ]
  },
  {
   "cell_type": "markdown",
   "id": "a1a653da-0696-4ac5-bf37-f33d1bb64dc1",
   "metadata": {},
   "source": [
    "## 3.\n",
    "People who have $\\textbf{only}$ read the Fortune Magazine is denoted as:\n",
    "\n",
    "$ = |Fortune| - |Fortune \\cap Newsweek| - |Fortune \\cap Times| + |Newsweek \\cap Times \\cap Fortune| = 42 - 25 - 15 + 8 = \\boxed{\\textbf{10}}$<br>\n",
    "<br>\n",
    "People who have $\\textbf{only}$ read the Newsweek Magazine:\n",
    "\n",
    "$ = |Newsweek| - |Newsweek \\cap Fortune| - |Newsweek \\cap Times| + |Newsweek \\cap Times \\cap Fortune| = 65 - 25 - 20 + 8 = \\boxed{\\textbf{28}}$<br>\n",
    "<br>\n",
    "People who have $\\textbf{only}$ read the Times Magazine:\n",
    "\n",
    "$ = |Times| - |Times \\cap Fortune| - |Times \\cap Newsweek| + |Newsweek \\cap Times \\cap Fortune| = 45 - 15 - 20 + 8 = \\boxed{\\textbf{18}}$<br>\n",
    "<br>\n",
    "\n",
    "The total amount of people who have $\\textbf{only}$ read exactly one magazine is $= 18 + 10 + 28 = \\boxed{\\textbf{56}}$\n",
    "<br>\n",
    "<br>"
   ]
  },
  {
   "cell_type": "markdown",
   "id": "a6b7c7b8-4d72-4db2-aa9f-2d686d8e7fc0",
   "metadata": {},
   "source": [
    "### $\\textbf{Given: }$\n",
    "<br>\n",
    "<br>\n",
    "\n",
    "Total cars = $\\textbf{25}$ <br>\n",
    "Cars with A = $\\textbf{15}$ <br>\n",
    "Cars with R = $\\textbf{12}$ <br>\n",
    "Cars with W = $\\textbf{11}$ <br>\n",
    "Cars with both A and R = $\\textbf{9}$ <br>\n",
    "Cars with both A and W = $\\textbf{5}$ <br>\n",
    "Cars with both R and W = $\\textbf{4}$ <br>\n",
    "Cars with all three = $\\textbf{3}$ <br>\n",
    "<br>\n",
    "<br>\n",
    "\n",
    "$1.$"
   ]
  },
  {
   "cell_type": "code",
   "execution_count": 39,
   "id": "9ab5b23b-e65b-4a59-a2c7-450f17825983",
   "metadata": {
    "tags": []
   },
   "outputs": [
    {
     "data": {
      "text/plain": [
       "Text(0.6, 0.01, 'U = 2')"
      ]
     },
     "execution_count": 39,
     "metadata": {},
     "output_type": "execute_result"
    },
    {
     "data": {
      "image/png": "[encoded data removed]",
      "text/plain": [
       "<Figure size 640x480 with 1 Axes>"
      ]
     },
     "metadata": {},
     "output_type": "display_data"
    }
   ],
   "source": [
    "venn3(subsets = (4, 2, 6, 5, 2, 1, 3), set_labels = ('A', 'R', 'W')) \n",
    "plt.annotate(\"U = 2\", xy=(.6, .01), fontsize=15, ha='left', va='center', color='black', weight='bold')"
   ]
  },
  {
   "cell_type": "markdown",
   "id": "c4247e9f-b63b-4c61-801f-670b0b8c6132",
   "metadata": {
    "tags": []
   },
   "source": [
    "$2.$ The number of cars with W only are cars with W - cars with both A and W - cars with both R and W + cars with all three or :\n",
    "$|W| - |W \\cap A| - |W \\cap R| + |W \\cap R \\cap A| = 11 - 5 - 4 + 3 = \\boxed{\\textbf{5}}$ <br>\n",
    "\n",
    "$3.$ The number of cars with A only are cars with A - cars with both A and W + cars with all three or : <br>\n",
    "$|A| - |W \\cap A| - |A \\cap R| + |W \\cap R \\cap A| = 15 - 5 - 9 + 3 = \\boxed{\\textbf{4}}$ <br>\n",
    "\n",
    "$4.$ The number of cars with R only are cars with R - cars with both A and r - cars with both R and W + cars with all three or : <br>\n",
    "$|R| - |R \\cap A| - |R \\cap W| + |W \\cap R \\cap A| = 12 - 9 - 4 + 3 = \\boxed{\\textbf{2}}$ <br>\n",
    "\n",
    "$5.$ The number of cars with both R and W but not A are cars with R and W - cars with all three or : <br>\n",
    "$|W \\cap R| - |W \\cap R \\cap A| = 4 - 3 = \\boxed{\\textbf{1}}$ <br>\n",
    "\n",
    "$6.$ The number of cars with both A and R but not W are cars with both A and W - cars with all three or : <br>\n",
    "$|A \\cap R| - |W \\cap R \\cap A| = 9 - 3 = \\boxed{\\textbf{6}}$ <br>\n",
    "\n",
    "$7.$ The number of cars with only one of the options are cars with only A + cars with only R + cars with only W or : <br>\n",
    "$|A \\text{ only }| + |W \\text{ only }| + |R \\text{ only }| = 5 + 4 + 2 = \\boxed{\\textbf{11}}$ <br>\n",
    "\n",
    "$8.$ The number of cars with at least one option are cars with A + cars with R + cars with W - cars with all three + cars with only one or : <br>\n",
    "$|A \\cup R \\cup W| = |A| + |R| + |W| - |A \\cap W| - |A \\cap R| - |W \\cap R| + |A \\cap W \\cap R| = 15 + 11 + 12 - 5 - 9 - 4 + 3 = \\boxed{\\textbf{23}}$ <br>\n",
    "\n",
    "$9.$ The number of cars with none of the options are the total amount of cars - the cars with atleast one option or : <br>\n",
    "$|\\mathcal{U}| - |A \\cup R \\cup W| = 25 - 23 = \\boxed{\\textbf{2}}$ <br>\n"
   ]
  },
  {
   "cell_type": "code",
   "execution_count": null,
   "id": "ad3fa614-c3b2-42f7-9f5e-077ac72598a2",
   "metadata": {},
   "outputs": [],
   "source": []
  }
 ],
 "metadata": {
  "kernelspec": {
   "display_name": "Python 3 (ipykernel)",
   "language": "python",
   "name": "python3"
  },
  "language_info": {
   "codemirror_mode": {
    "name": "ipython",
    "version": 3
   },
   "file_extension": ".py",
   "mimetype": "text/x-python",
   "name": "python",
   "nbconvert_exporter": "python",
   "pygments_lexer": "ipython3",
   "version": "3.11.5"
  }
 },
 "nbformat": 4,
 "nbformat_minor": 5
}
